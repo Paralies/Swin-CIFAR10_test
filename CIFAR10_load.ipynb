{
 "cells": [
  {
   "cell_type": "code",
   "execution_count": 1,
   "metadata": {},
   "outputs": [
    {
     "name": "stdout",
     "output_type": "stream",
     "text": [
      "Files already downloaded and verified\n",
      "Files already downloaded and verified\n"
     ]
    }
   ],
   "source": [
    "import cv2\n",
    "import numpy as np\n",
    "import torchvision.transforms as transforms\n",
    "import torchvision.datasets as datasets\n",
    "\n",
    "transform = transforms.Compose([transforms.ToTensor()])\n",
    "\n",
    "train_dataset = datasets.CIFAR10(root='./data', train=True, download=True, transform=transform)\n",
    "test_dataset = datasets.CIFAR10(root='./data', train=False, download=True, transform=transform)\n",
    "\n",
    "image, label = train_dataset[0]\n",
    "\n",
    "image_np = image.permute(1, 2, 0).numpy()\n",
    "\n",
    "image_np = cv2.resize(image_np, (64, 64), interpolation=cv2.INTER_LINEAR)\n",
    "\n",
    "cv2.imshow('CIFAR-10 Image', image_np)\n",
    "\n",
    "# 키보드 입력을 기다리는 동안 무한 루프를 실행\n",
    "while True:\n",
    "    # cv2.waitKey() 함수를 사용하여 키보드 입력 확인. 1ms 동안 wait.\n",
    "    key = cv2.waitKey(1) & 0xFF\n",
    "\n",
    "    # 'q' 키가 눌렸는지 확인\n",
    "    if key == ord('q'):\n",
    "        break\n",
    "\n",
    "# 무한 루프를 벗어나면 창 닫음.\n",
    "cv2.destroyAllWindows()"
   ]
  },
  {
   "cell_type": "code",
   "execution_count": null,
   "metadata": {},
   "outputs": [],
   "source": []
  }
 ],
 "metadata": {
  "kernelspec": {
   "display_name": "pytorch",
   "language": "python",
   "name": "python3"
  },
  "language_info": {
   "codemirror_mode": {
    "name": "ipython",
    "version": 3
   },
   "file_extension": ".py",
   "mimetype": "text/x-python",
   "name": "python",
   "nbconvert_exporter": "python",
   "pygments_lexer": "ipython3",
   "version": "3.10.6"
  },
  "orig_nbformat": 4
 },
 "nbformat": 4,
 "nbformat_minor": 2
}
